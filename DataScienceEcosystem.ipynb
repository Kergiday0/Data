{
  "metadata": {
    "kernelspec": {
      "name": "python",
      "display_name": "Python (Pyodide)",
      "language": "python"
    },
    "language_info": {
      "codemirror_mode": {
        "name": "python",
        "version": 3
      },
      "file_extension": ".py",
      "mimetype": "text/x-python",
      "name": "python",
      "nbconvert_exporter": "python",
      "pygments_lexer": "ipython3",
      "version": "3.8"
    }
  },
  "nbformat_minor": 4,
  "nbformat": 4,
  "cells": [
    {
      "cell_type": "markdown",
      "source": "# Data Science Tools and Ecosystem",
      "metadata": {}
    },
    {
      "cell_type": "markdown",
      "source": "in this notebook, data science tools and ecosystems summerized.",
      "metadata": {}
    },
    {
      "cell_type": "markdown",
      "source": "some of the popular data scientist languages:\n1. R\n2. SQL\n3. Python\n4. C++\n5. Java",
      "metadata": {}
    },
    {
      "cell_type": "markdown",
      "source": "data science libraries:\n1. Pandas\n2. NumPy\n3. Matplotlib\n4. TensorFlow\n5. Pandas\n6. Keras",
      "metadata": {}
    },
    {
      "cell_type": "markdown",
      "source": "|Tool|\n|---|\n|Jupyter| \n|RStudio|\n|VSCode| \n|GitHub| ",
      "metadata": {}
    },
    {
      "cell_type": "markdown",
      "source": "### Arithmatic Expressions\nwe can perform simple arithmetic operations like addition, multiplication, etc.",
      "metadata": {}
    },
    {
      "cell_type": "code",
      "source": "a=3\nb=4\nresult = a * b + 5\nresult",
      "metadata": {
        "trusted": true
      },
      "outputs": [
        {
          "execution_count": 9,
          "output_type": "execute_result",
          "data": {
            "text/plain": "17"
          },
          "metadata": {}
        }
      ],
      "execution_count": 9
    },
    {
      "cell_type": "code",
      "source": "minutes = 200\nhours = minutes / 60\nhours",
      "metadata": {
        "trusted": true
      },
      "outputs": [
        {
          "execution_count": 10,
          "output_type": "execute_result",
          "data": {
            "text/plain": "3.3333333333333335"
          },
          "metadata": {}
        }
      ],
      "execution_count": 10
    },
    {
      "cell_type": "markdown",
      "source": "**Objectives**\n- List popular languages for data science.\n- List popular libraries for data science.\n- List of well known data science tools.\n- How to provide comments in the cell.",
      "metadata": {}
    },
    {
      "cell_type": "markdown",
      "source": "## Author\nThis notebook was created by Hüseyin Derli",
      "metadata": {},
      "attachments": {}
    },
    {
      "cell_type": "code",
      "source": "",
      "metadata": {
        "trusted": true
      },
      "outputs": [],
      "execution_count": null
    }
  ]
}